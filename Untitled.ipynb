{
 "cells": [
  {
   "cell_type": "code",
   "execution_count": 2,
   "id": "c95d9d19",
   "metadata": {},
   "outputs": [
    {
     "name": "stdout",
     "output_type": "stream",
     "text": [
      "{'id': 101, 'ename': 'siddu', 'sal': 45000}\n"
     ]
    }
   ],
   "source": [
    "#Dictionary-keyvalues:pairs\n",
    "Employees={'id':101,'ename':'siddu','sal':45000}\n",
    "print(Employees)"
   ]
  },
  {
   "cell_type": "code",
   "execution_count": 3,
   "id": "f59217cd",
   "metadata": {},
   "outputs": [
    {
     "name": "stdout",
     "output_type": "stream",
     "text": [
      "{'id': 101, 'ename': 'siddu', 'sal': 45000}\n",
      "<class 'dict'>\n"
     ]
    }
   ],
   "source": [
    "Employees={'id':101,'ename':'siddu','sal':45000}\n",
    "print(Employees)\n",
    "print(type(Employees))"
   ]
  },
  {
   "cell_type": "code",
   "execution_count": 4,
   "id": "2b5f22be",
   "metadata": {},
   "outputs": [
    {
     "name": "stdout",
     "output_type": "stream",
     "text": [
      "{'id': 102, 'ename': 'siddu', 'sal': 45000}\n"
     ]
    }
   ],
   "source": [
    "#Duplicate keyss are not allowed\n",
    "Employees={'id':101,'ename':'siddu','sal':45000,'id':102}\n",
    "print(Employees)\n"
   ]
  },
  {
   "cell_type": "code",
   "execution_count": 5,
   "id": "34f58cd7",
   "metadata": {},
   "outputs": [
    {
     "name": "stdout",
     "output_type": "stream",
     "text": [
      "{'id': 101, 'ename': 101}\n"
     ]
    }
   ],
   "source": [
    "#Dupliactes values are allowed\n",
    "emp={'id':101,'ename':101}\n",
    "print(emp)"
   ]
  },
  {
   "cell_type": "code",
   "execution_count": 20,
   "id": "217dfdd8",
   "metadata": {},
   "outputs": [
    {
     "ename": "AttributeError",
     "evalue": "'dict' object has no attribute 'ename'",
     "output_type": "error",
     "traceback": [
      "\u001b[1;31m---------------------------------------------------------------------------\u001b[0m",
      "\u001b[1;31mAttributeError\u001b[0m                            Traceback (most recent call last)",
      "Cell \u001b[1;32mIn[20], line 3\u001b[0m\n\u001b[0;32m      1\u001b[0m \u001b[38;5;66;03m#Reading\u001b[39;00m\n\u001b[0;32m      2\u001b[0m emp\u001b[38;5;241m=\u001b[39m{\u001b[38;5;124m'\u001b[39m\u001b[38;5;124mid\u001b[39m\u001b[38;5;124m'\u001b[39m:\u001b[38;5;241m101\u001b[39m,\u001b[38;5;124m'\u001b[39m\u001b[38;5;124mename\u001b[39m\u001b[38;5;124m'\u001b[39m:\u001b[38;5;241m101\u001b[39m,\u001b[38;5;124m'\u001b[39m\u001b[38;5;124mloc\u001b[39m\u001b[38;5;124m'\u001b[39m:[\u001b[38;5;241m1\u001b[39m,\u001b[38;5;241m2\u001b[39m,\u001b[38;5;241m3\u001b[39m]}\n\u001b[1;32m----> 3\u001b[0m \u001b[38;5;28mprint\u001b[39m(\u001b[43memp\u001b[49m\u001b[38;5;241;43m.\u001b[39;49m\u001b[43mename\u001b[49m())\n",
      "\u001b[1;31mAttributeError\u001b[0m: 'dict' object has no attribute 'ename'"
     ]
    }
   ],
   "source": [
    "#Reading\n",
    "emp={'id':101,'ename':101,'loc':[1,2,3]}\n",
    "print(emp.ename())"
   ]
  },
  {
   "cell_type": "code",
   "execution_count": 16,
   "id": "6bd0ffe4",
   "metadata": {},
   "outputs": [
    {
     "name": "stdout",
     "output_type": "stream",
     "text": [
      "dict_keys(['id', 'ename', 'loc'])\n"
     ]
    }
   ],
   "source": [
    "emp={'id':101,'ename':101,'loc':[1,2,3]}\n",
    "print(emp.keys())"
   ]
  },
  {
   "cell_type": "code",
   "execution_count": 17,
   "id": "84f11787",
   "metadata": {},
   "outputs": [
    {
     "name": "stdout",
     "output_type": "stream",
     "text": [
      "dict_values([101, 101, [1, 2, 3]])\n"
     ]
    }
   ],
   "source": [
    "emp={'id':101,'ename':101,'loc':[1,2,3]}\n",
    "print(emp.values())"
   ]
  },
  {
   "cell_type": "code",
   "execution_count": 18,
   "id": "2b3f43a3",
   "metadata": {},
   "outputs": [
    {
     "name": "stdout",
     "output_type": "stream",
     "text": [
      "dict_items([('id', 101), ('ename', 101), ('loc', [1, 2, 3])])\n"
     ]
    }
   ],
   "source": [
    "emp={'id':101,'ename':101,'loc':[1,2,3]}\n",
    "print(emp.items())"
   ]
  },
  {
   "cell_type": "code",
   "execution_count": 22,
   "id": "baa1ea70",
   "metadata": {},
   "outputs": [
    {
     "ename": "SyntaxError",
     "evalue": "invalid syntax (1918126914.py, line 3)",
     "output_type": "error",
     "traceback": [
      "\u001b[1;36m  Cell \u001b[1;32mIn[22], line 3\u001b[1;36m\u001b[0m\n\u001b[1;33m    print(emp.'email':'arshsf@gmail.com')\u001b[0m\n\u001b[1;37m              ^\u001b[0m\n\u001b[1;31mSyntaxError\u001b[0m\u001b[1;31m:\u001b[0m invalid syntax\n"
     ]
    }
   ],
   "source": [
    "#adding new\n",
    "emp={'id':101,'ename':101,'loc':[1,2,3]}\n",
    "print(emp.'email':'arshsf@gmail.com')\n",
    "print(emp)"
   ]
  },
  {
   "cell_type": "code",
   "execution_count": null,
   "id": "f230d140",
   "metadata": {},
   "outputs": [],
   "source": []
  }
 ],
 "metadata": {
  "kernelspec": {
   "display_name": "Python 3 (ipykernel)",
   "language": "python",
   "name": "python3"
  },
  "language_info": {
   "codemirror_mode": {
    "name": "ipython",
    "version": 3
   },
   "file_extension": ".py",
   "mimetype": "text/x-python",
   "name": "python",
   "nbconvert_exporter": "python",
   "pygments_lexer": "ipython3",
   "version": "3.11.0"
  }
 },
 "nbformat": 4,
 "nbformat_minor": 5
}
