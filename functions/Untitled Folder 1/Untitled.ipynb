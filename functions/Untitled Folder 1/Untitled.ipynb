{
 "cells": [
  {
   "cell_type": "code",
   "execution_count": 2,
   "id": "4f98d25f",
   "metadata": {},
   "outputs": [
    {
     "name": "stdout",
     "output_type": "stream",
     "text": [
      "addition\n"
     ]
    }
   ],
   "source": [
    "#function\n",
    "def add():\n",
    "    print(\"addition\")\n",
    "add()"
   ]
  },
  {
   "cell_type": "code",
   "execution_count": 3,
   "id": "751fcfe5",
   "metadata": {},
   "outputs": [
    {
     "name": "stdout",
     "output_type": "stream",
     "text": [
      "100\n"
     ]
    }
   ],
   "source": [
    "#function with return\n",
    "def get_amount():\n",
    "    return 100\n",
    "x=get_amount()\n",
    "print(x)"
   ]
  },
  {
   "cell_type": "code",
   "execution_count": 4,
   "id": "68749e48",
   "metadata": {},
   "outputs": [
    {
     "name": "stdout",
     "output_type": "stream",
     "text": [
      "45698\n"
     ]
    }
   ],
   "source": [
    "#function with arguments\n",
    "def get_amount(a,b):\n",
    "    print(a+b)\n",
    "get_amount(20,45678)"
   ]
  },
  {
   "cell_type": "code",
   "execution_count": 5,
   "id": "56f76ca3",
   "metadata": {},
   "outputs": [
    {
     "ename": "TypeError",
     "evalue": "get_amount() missing 1 required positional argument: 'b'",
     "output_type": "error",
     "traceback": [
      "\u001b[1;31m---------------------------------------------------------------------------\u001b[0m",
      "\u001b[1;31mTypeError\u001b[0m                                 Traceback (most recent call last)",
      "Cell \u001b[1;32mIn[5], line 4\u001b[0m\n\u001b[0;32m      2\u001b[0m \u001b[38;5;28;01mdef\u001b[39;00m \u001b[38;5;21mget_amount\u001b[39m(a,b):\n\u001b[0;32m      3\u001b[0m     \u001b[38;5;28mprint\u001b[39m(a\u001b[38;5;241m+\u001b[39mb)\n\u001b[1;32m----> 4\u001b[0m \u001b[43mget_amount\u001b[49m\u001b[43m(\u001b[49m\u001b[38;5;241;43m20\u001b[39;49m\u001b[43m)\u001b[49m\n",
      "\u001b[1;31mTypeError\u001b[0m: get_amount() missing 1 required positional argument: 'b'"
     ]
    }
   ],
   "source": [
    "#function with incomplte arguments\n",
    "def get_amount(a,b):\n",
    "    print(a+b)\n",
    "get_amount(20)"
   ]
  },
  {
   "cell_type": "code",
   "execution_count": null,
   "id": "d3bd3313",
   "metadata": {},
   "outputs": [],
   "source": []
  }
 ],
 "metadata": {
  "kernelspec": {
   "display_name": "Python 3 (ipykernel)",
   "language": "python",
   "name": "python3"
  },
  "language_info": {
   "codemirror_mode": {
    "name": "ipython",
    "version": 3
   },
   "file_extension": ".py",
   "mimetype": "text/x-python",
   "name": "python",
   "nbconvert_exporter": "python",
   "pygments_lexer": "ipython3",
   "version": "3.11.0"
  }
 },
 "nbformat": 4,
 "nbformat_minor": 5
}
